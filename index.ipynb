a=np.arange(1,5).reshape(3.3)
print(a)

